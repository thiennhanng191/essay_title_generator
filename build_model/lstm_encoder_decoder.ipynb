version https://git-lfs.github.com/spec/v1
oid sha256:4ff44ddf6e87a1dd100340f6f16641ba88eca4af60226980be2f0080527b0cc9
size 630310
